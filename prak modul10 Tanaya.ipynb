{
 "cells": [
  {
   "cell_type": "code",
   "execution_count": 1,
   "id": "d5799dab",
   "metadata": {},
   "outputs": [
    {
     "name": "stdout",
     "output_type": "stream",
     "text": [
      "Nilai F: 3.347702318015454\n",
      "Nilai p: 0.06993237223084404\n"
     ]
    }
   ],
   "source": [
    "import numpy as np\n",
    "import scipy.stats as stats\n",
    "\n",
    "\n",
    "# Data waktu produksi dari ketiga mesin\n",
    "metode_A = np.array([77, 54, 67, 74, 71])\n",
    "metode_B = np.array([60, 41, 59, 65, 62])\n",
    "metode_C = np.array([49, 52, 69, 47, 56])\n",
    "\n",
    "\n",
    "# Gabungkan data ke dalam satu array\n",
    "data_tarum = [metode_A, metode_B, metode_C]\n",
    "\n",
    "\n",
    "# Hitung ANOVA menggunakan scipy.stats\n",
    "f_statistic, p_value = stats.f_oneway(metode_A, metode_B, metode_C)\n",
    "\n",
    "\n",
    "# Tampilkan hasil\n",
    "print(f\"Nilai F: {f_statistic}\")\n",
    "print(f\"Nilai p: {p_value}\")"
   ]
  },
  {
   "cell_type": "code",
   "execution_count": 3,
   "id": "03a819a1",
   "metadata": {},
   "outputs": [
    {
     "name": "stdout",
     "output_type": "stream",
     "text": [
      "Nilai F: 4.846087862380133\n",
      "Nilai p: 0.01590995832562293\n"
     ]
    }
   ],
   "source": [
    "import numpy as np\n",
    "import scipy.stats as stats\n",
    "\n",
    "# Data waktu produksi dari ketiga mesin\n",
    "ctrl = np.array([ 4.17, 4.50, 4.53, 4.61, 5.14, 5.17, 5.18, 5.33, 5.58, 6.11])\n",
    "trt1 = np.array([3.59, 3.83, 4.17, 4.32, 4.41, 4.69, 4.81, 4.89, 5.87, 6.03])\n",
    "trt2 = np.array([4.92, 5.12, 5.26, 5.29, 5.37, 5.50, 5.54, 5.80, 6.15, 6.31])\n",
    "\n",
    "# Gabungkan data ke dalam satu array\n",
    "data_tarum = [ctrl, trt1, trt2]\n",
    "\n",
    "# Hitung ANOVA menggunakan scipy.stats\n",
    "f_statistic, p_value = stats.f_oneway(ctrl, trt1, trt2)\n",
    "\n",
    "# Tampilkan hasil\n",
    "print(f\"Nilai F: {f_statistic}\")\n",
    "print(f\"Nilai p: {p_value}\")"
   ]
  },
  {
   "cell_type": "code",
   "execution_count": null,
   "id": "e3cd7e9d",
   "metadata": {},
   "outputs": [],
   "source": []
  }
 ],
 "metadata": {
  "kernelspec": {
   "display_name": "Python 3 (ipykernel)",
   "language": "python",
   "name": "python3"
  },
  "language_info": {
   "codemirror_mode": {
    "name": "ipython",
    "version": 3
   },
   "file_extension": ".py",
   "mimetype": "text/x-python",
   "name": "python",
   "nbconvert_exporter": "python",
   "pygments_lexer": "ipython3",
   "version": "3.11.5"
  }
 },
 "nbformat": 4,
 "nbformat_minor": 5
}
